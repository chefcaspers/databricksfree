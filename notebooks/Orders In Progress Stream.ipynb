{
 "cells": [
  {
   "cell_type": "code",
   "execution_count": 0,
   "metadata": {
    "application/vnd.databricks.v1+cell": {
     "cellMetadata": {
      "byteLimit": 2048000,
      "rowLimit": 10000
     },
     "inputWidgets": {},
     "nuid": "d279d016-abb8-41c9-8b74-be6d185c63b7",
     "showTitle": false,
     "tableResultSettingsMap": {},
     "title": ""
    }
   },
   "outputs": [],
   "source": [
    "import pandas as pd\n",
    "import uuid\n",
    "import random\n",
    "from typing import Iterator\n",
    "from pyspark.sql.types import *\n",
    "from pyspark.sql.streaming import StatefulProcessor\n",
    "from pyspark.sql.functions import current_timestamp, current_date, lit\n",
    "\n",
    "class OrderEventCollector(StatefulProcessor):\n",
    "    def init(self, handle):\n",
    "        # Define the schema for storing the two events\n",
    "        event_schema = StructType([\n",
    "            StructField(\"event_type\", StringType()),\n",
    "            StructField(\"ts\", TimestampType()),\n",
    "            StructField(\"body\", StringType()),\n",
    "            StructField(\"order_id\", StringType()),\n",
    "            StructField(\"location\", StringType()),\n",
    "        ])\n",
    "        self.events_state = handle.getListState(\"events\", event_schema)  \n",
    "\n",
    "    def handleInputRows(self, key, rows: Iterator[pd.DataFrame], timerValues) -> Iterator[pd.DataFrame]:\n",
    "        # Accumulate incoming events\n",
    "        for pdf in rows:\n",
    "            for _, row in pdf.iterrows():\n",
    "                self.events_state.appendList([(row[\"event_type\"], row[\"ts\"], row[\"body\"], row[\"order_id\"], row[\"location\"])])\n",
    "\n",
    "        # Retrieve all stored events for this order_id \n",
    "        events = list(self.events_state.get())\n",
    "        event_types = [e[0] for e in events]\n",
    "\n",
    "        # events are always in order so we can just check for delivered event\n",
    "        if \"delivered\" in event_types:\n",
    "            # Generate a unique event_id\n",
    "            event_id = str(uuid.uuid4())\n",
    "            # Construct the output row\n",
    "            output = pd.DataFrame([{\n",
    "                \"order_id\": events[0][3], # grab from one of the events\n",
    "                \"location\": events[0][4], # grab from one of the events\n",
    "                \"events\": events,\n",
    "            }])\n",
    "            # Clear the state for this order_id\n",
    "            self.events_state.clear()\n",
    "            \n",
    "            yield output\n",
    "\n",
    "    def close(self) -> None:\n",
    "        pass"
   ]
  },
  {
   "cell_type": "code",
   "execution_count": 0,
   "metadata": {
    "application/vnd.databricks.v1+cell": {
     "cellMetadata": {
      "byteLimit": 2048000,
      "rowLimit": 10000
     },
     "inputWidgets": {},
     "nuid": "57b9a2f0-ddcd-4767-b45a-cb0077aea587",
     "showTitle": false,
     "tableResultSettingsMap": {},
     "title": ""
    }
   },
   "outputs": [],
   "source": [
    "output_schema = StructType([\n",
    "    StructField(\"order_id\", StringType()),\n",
    "    StructField(\"location\", StringType()),\n",
    "    StructField(\"events\", ArrayType(StructType([\n",
    "        StructField(\"event_type\", StringType()),\n",
    "        StructField(\"ts\", TimestampType()),\n",
    "        StructField(\"body\", StringType()),\n",
    "    ])))\n",
    "])"
   ]
  },
  {
   "cell_type": "code",
   "execution_count": 0,
   "metadata": {
    "application/vnd.databricks.v1+cell": {
     "cellMetadata": {
      "byteLimit": 2048000,
      "rowLimit": 10000
     },
     "inputWidgets": {},
     "nuid": "225d0ce4-3366-4660-a340-d6a312ec3fa2",
     "showTitle": false,
     "tableResultSettingsMap": {},
     "title": ""
    }
   },
   "outputs": [],
   "source": [
    "from pyspark.sql.functions import col\n",
    "\n",
    "# Read the streaming data, filtering for relevant event types\n",
    "events_stream = (\n",
    "    spark.readStream.table(\"gk_demo.lakeflow.all_events\")\n",
    "        .select(\n",
    "            col(\"event_type\"),\n",
    "            col(\"ts\").cast(\"timestamp\").alias(\"ts\"),\n",
    "            col(\"body\"),\n",
    "            col(\"order_id\"),\n",
    "            col(\"location\")\n",
    "        )\n",
    ")\n",
    "\n",
    "# Apply the stateful transformation\n",
    "processed_stream = (\n",
    "    events_stream\n",
    "    .groupBy(\"order_id\")\n",
    "    .transformWithStateInPandas(\n",
    "        statefulProcessor=OrderEventCollector(),\n",
    "        outputStructType=output_schema,\n",
    "        outputMode=\"Append\",\n",
    "        timeMode=\"None\"\n",
    "    )\n",
    ")"
   ]
  },
  {
   "cell_type": "code",
   "execution_count": 0,
   "metadata": {
    "application/vnd.databricks.v1+cell": {
     "cellMetadata": {
      "byteLimit": 2048000,
      "rowLimit": 10000
     },
     "inputWidgets": {},
     "nuid": "7e9353ef-38fd-4824-9155-e37d489b11e6",
     "showTitle": false,
     "tableResultSettingsMap": {},
     "title": ""
    }
   },
   "outputs": [],
   "source": [
    "(\n",
    "  processed_stream.writeStream\n",
    "    .option(\"checkpointLocation\", f\"/Volumes/gk_demo/default/checkpoints/orders_in_progress\")\n",
    "    .trigger(availableNow=True)\n",
    "    .toTable(\"gk_demo.default.completed_orders\")\n",
    ")"
   ]
  }
 ],
 "metadata": {
  "application/vnd.databricks.v1+notebook": {
   "computePreferences": {
    "hardware": {
     "accelerator": null,
     "gpuPoolId": null,
     "memory": null
    }
   },
   "dashboards": [],
   "environmentMetadata": {
    "base_environment": "",
    "environment_version": "3"
   },
   "inputWidgetPreferences": null,
   "language": "python",
   "notebookMetadata": {
    "pythonIndentUnit": 4
   },
   "notebookName": "Orders In Progress Stream",
   "widgets": {}
  },
  "language_info": {
   "name": "python"
  }
 },
 "nbformat": 4,
 "nbformat_minor": 0
}
