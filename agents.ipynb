{
 "cells": [
  {
   "cell_type": "markdown",
   "id": "f12a1b31",
   "metadata": {},
   "source": [
    "# Introduction to Agents in Databricks"
   ]
  },
  {
   "cell_type": "markdown",
   "id": "ef9c262a",
   "metadata": {},
   "source": [
    "Let's create an agent, __RefundAgent__ that identifies orders that are eligible for a refund based on the time it took to deliver the order.\n",
    "\n",
    "To do this we'll need to equip our agent with two tools:\n",
    "\n",
    "  1. __Order Details tool__: This tool will take an `order_id` as an input and return all the events associated with this order\n",
    "  2. __Location Timing tool__: This tool will take a `location` and retrieve the 50/75/99 percentile delivery times for that specific location\n",
    "\n",
    "We'll attach these tools to a tool capable LLM like `llama-3-3` in the Playground and test it out directly in the notebook."
   ]
  },
  {
   "cell_type": "markdown",
   "id": "432f76e2",
   "metadata": {},
   "source": [
    "## Project Overview\n",
    "\n",
    "We will work through the following steps:   \n",
    "1. Initialize the catalog and volume and set up the data\n",
    "2. Define tools for the agent to use\n",
    "3. Use the playground to call the tools and test the agent\n",
    "4. Export the agent from the playground to a notebook\n",
    "\n",
    "This repo includes a zipped data file that contains two weeks of sample delivery data. We will start by unzipping the file and loading the data into a Delta table."
   ]
  },
  {
   "cell_type": "markdown",
   "id": "62d4a07c",
   "metadata": {},
   "source": [
    "### Setup"
   ]
  },
  {
   "cell_type": "code",
   "execution_count": null,
   "id": "56dcb65b",
   "metadata": {},
   "outputs": [],
   "source": [
    "from utils.utils import (\n",
    "    setup_catalog_and_volume,\n",
    "    copy_raw_data_to_volume,\n",
    "    initialize_events_table,\n",
    "    drop_gk_demo_catalog,\n",
    "    initialize_order_delivery_times_view,\n",
    ")\n",
    "\n",
    "# Drop existing catalog/volume/table if you need to start fresh\n",
    "# drop_gk_demo_catalog(spark)\n",
    "\n",
    "## 1. Setup the catalog and volume\n",
    "setup_catalog_and_volume(spark)\n",
    "\n",
    "## 2. Copy the raw data to the volume\n",
    "copy_raw_data_to_volume()\n",
    "\n",
    "## 3. Initialize the events table and order timings view\n",
    "initialize_events_table(spark)\n",
    "initialize_order_delivery_times_view(spark)"
   ]
  },
  {
   "cell_type": "markdown",
   "id": "03d3b0cb",
   "metadata": {},
   "source": [
    "## Register Tools\n",
    "\n",
    "We will create two [Unity Catalog functions](https://docs.databricks.com/aws/en/generative-ai/agent-framework/create-custom-tool) that will be used as tools for the agent.\n",
    "\n",
    "### Order Details Tool"
   ]
  },
  {
   "cell_type": "markdown",
   "id": "26ef5f99",
   "metadata": {},
   "source": [
    "%sql\n",
    "CREATE OR REPLACE FUNCTION gk_demo.default.get_order_details(oid STRING)\n",
    "RETURNS TABLE (\n",
    "  body STRING COMMENT 'Body of the event',\n",
    "  event_type STRING COMMENT 'The type of event',\n",
    "  order_id STRING COMMENT 'The order id',\n",
    "  ts STRING COMMENT 'The timestamp of the event'\n",
    ")\n",
    "COMMENT 'Returns all events associated with the order id (oid)'\n",
    "RETURN\n",
    "  SELECT body, event_type, order_id, ts\n",
    "  FROM gk_demo.default.all_events ae\n",
    "  WHERE ae.order_id = oid;"
   ]
  },
  {
   "cell_type": "markdown",
   "id": "00db5d20",
   "metadata": {},
   "source": [
    "### Order Timings Tool\n",
    "\n",
    "This tool will return the 50/75/99th percentile of total delivery times for a given location."
   ]
  },
  {
   "cell_type": "markdown",
   "id": "1617a511",
   "metadata": {},
   "source": [
    "%sql\n",
    "CREATE OR REPLACE FUNCTION gk_demo.default.get_location_timings(loc STRING COMMENT 'Location name as a string')\n",
    "RETURNS TABLE (\n",
    "  location STRING COMMENT 'Location of the order source',\n",
    "  P50 FLOAT COMMENT '50th percentile',\n",
    "  P75 FLOAT COMMENT '75th percentile',\n",
    "  P99 FLOAT COMMENT '99th percentile'\n",
    ")\n",
    "COMMENT 'Returns the 50/75/99th percentile of total delivery times for locations'\n",
    "RETURN\n",
    "  SELECT location, P50, P75, P99\n",
    "  FROM gk_demo.default.order_delivery_times_per_location_view AS odlt\n",
    "  WHERE odlt.location = loc;"
   ]
  },
  {
   "cell_type": "markdown",
   "id": "9022f3f1",
   "metadata": {},
   "source": [
    "## Try out the Agent in the Playground\n",
    "\n",
    "1. Copy this system prompt\n",
    "    ```\n",
    "    You are RefundGPT, a CX agent responsible for refunding food delivery orders.\n",
    "\n",
    "    You can call tools to gather the information you need. Start with an `order_id`.\n",
    "\n",
    "    Instructions:\n",
    "    1. Call `order_details(order_id)` first to get event history.\n",
    "    2. Figure out the delivery duration by comparing timestamps in the events.\n",
    "    3. Extract the location (either directly or from the first event's body).\n",
    "    4. Call `get_location_timings(location)` to get the P50/P75/P99 values.\n",
    "    5. Compare actual delivery time to those percentiles to decide on a fair refund.\n",
    "\n",
    "    Output a single-line JSON with these fields:\n",
    "    - `refund_usd` (float),\n",
    "    - `refund_class` (\"none\" | \"partial\" | \"full\"),\n",
    "    - `reason` (short human explanation)\n",
    "\n",
    "    You must return only the JSON. No extra text or markdown.\n",
    "    ```\n",
    "2. Open Playground from the left sidebar\n",
    "3. Paste the system prompt and select an LLM with tool calling capabilities (`Meta Llama 3.3 70B Instruct`)\n",
    "\n",
    "<img src=\"./images/agents/playground_add_tools.png\" width=\"75%\"/>\n",
    "\n",
    "4. Try an the following order_id: `01d400a8161f4a5ab0c01c2eee22ddad` as an input to see the agent in action. Below we see the agent called both tools and returned a JSON object with a decision about whether the timing data of this order makes this order eligible for a refund.\n",
    "\n",
    "<img src=\"./images/agents/run_agent_in_notebook.png\" width=\"75%\">\n",
    "\n",
    "5. We can export our prototyped agent using __Create Agent Notebook__.\n",
    "\n",
    "<img src=\"./images/agents/create_agent_notebook.png\" width=\"75%\">\n",
    "\n",
    "6. Follow the remaining steps in the generated notebook on defining agents in code, managing experiments and offline evals, deploying, and online monitoring."
   ]
  }
 ],
 "metadata": {
  "kernelspec": {
   "display_name": ".venv",
   "language": "python",
   "name": "python3"
  },
  "language_info": {
   "name": "python",
   "version": "3.11.12"
  }
 },
 "nbformat": 4,
 "nbformat_minor": 5
}
