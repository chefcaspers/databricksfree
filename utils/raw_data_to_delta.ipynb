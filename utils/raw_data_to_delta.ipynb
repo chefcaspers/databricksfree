{
 "cells": [
  {
   "cell_type": "code",
   "execution_count": 0,
   "metadata": {
    "application/vnd.databricks.v1+cell": {
     "cellMetadata": {
      "byteLimit": 2048000,
      "rowLimit": 10000
     },
     "inputWidgets": {},
     "nuid": "9b9f4c74-d6a9-483c-a882-7f6d6bc98d32",
     "showTitle": false,
     "tableResultSettingsMap": {},
     "title": ""
    }
   },
   "outputs": [],
   "source": [
    "import os\n",
    "import shutil\n",
    "from pathlib import Path\n",
    "\n",
    "# Configuration\n",
    "CATALOG_NAME = 'gk_demo'\n",
    "SCHEMA_NAME = 'default'\n",
    "VOLUME_NAME = 'raw_data'\n",
    "TABLE_NAME = f'{CATALOG_NAME}.{SCHEMA_NAME}.all_events'\n",
    "\n",
    "# Create Unity Catalog objects\n",
    "spark.sql(f\"CREATE CATALOG IF NOT EXISTS {CATALOG_NAME}\")\n",
    "spark.sql(f\"CREATE SCHEMA IF NOT EXISTS {CATALOG_NAME}.{SCHEMA_NAME}\")\n",
    "spark.sql(f\"CREATE VOLUME IF NOT EXISTS {CATALOG_NAME}.{SCHEMA_NAME}.{VOLUME_NAME}\")\n",
    "print(f\"✅ Unity Catalog objects ready\")\n",
    "\n",
    "# Source paths\n",
    "DATA_DIR = Path('../data')\n",
    "SOURCE_GZ_FILE = os.path.join(DATA_DIR, 'raw_events.json.gz')\n",
    "\n",
    "# Destination paths (in volume)\n",
    "VOLUME_PATH = f\"/Volumes/{CATALOG_NAME}/{SCHEMA_NAME}/{VOLUME_NAME}\"\n",
    "VOLUME_GZ_FILE = f\"{VOLUME_PATH}/raw_events.json.gz\"\n",
    "\n",
    "def copy_to_volume():\n",
    "    if not os.path.exists(VOLUME_GZ_FILE):\n",
    "        print(f\"Copying {SOURCE_GZ_FILE} to volume {VOLUME_GZ_FILE}...\")\n",
    "        shutil.copy2(SOURCE_GZ_FILE, VOLUME_GZ_FILE)\n",
    "        print(\"✅ Copied to volume\")\n",
    "    else:\n",
    "        print(f\"{VOLUME_GZ_FILE} already exists in volume. Skipping copy.\")\n",
    "\n",
    "def main():\n",
    "    copy_to_volume()\n",
    "    df = spark.read.json(VOLUME_GZ_FILE)\n",
    "    df.write.format(\"delta\").mode(\"overwrite\").saveAsTable(TABLE_NAME)\n",
    "    print(f\"✅ Table {TABLE_NAME} created\")\n",
    "\n",
    "main()"
   ]
  }
 ],
 "metadata": {
  "application/vnd.databricks.v1+notebook": {
   "computePreferences": null,
   "dashboards": [],
   "environmentMetadata": null,
   "inputWidgetPreferences": null,
   "language": "python",
   "notebookMetadata": {
    "pythonIndentUnit": 4
   },
   "notebookName": "raw_data_to_delta",
   "widgets": {}
  },
  "language_info": {
   "name": "python"
  }
 },
 "nbformat": 4,
 "nbformat_minor": 0
}
