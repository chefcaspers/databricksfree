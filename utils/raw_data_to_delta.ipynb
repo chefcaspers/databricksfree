{
 "cells": [
  {
   "cell_type": "code",
   "execution_count": null,
   "id": "dfb45898",
   "metadata": {},
   "outputs": [],
   "source": [
    "import os\n",
    "import gzip\n",
    "\n",
    "# Paths (relative to repo root)\n",
    "DATA_DIR = os.path.join(os.path.dirname(__file__), '..', 'data')\n",
    "GZ_FILE = os.path.join(DATA_DIR, 'raw_events.json.gz')\n",
    "JSON_FILE = os.path.join(DATA_DIR, 'raw_events.json')\n",
    "TABLE_NAME = 'gk_demo.default.events_table'\n",
    "\n",
    "# Unzip the file if not already unzipped\n",
    "\n",
    "def unzip_if_needed():\n",
    "    if not os.path.exists(JSON_FILE):\n",
    "        print(f\"Unzipping {GZ_FILE} using Python gzip...\")\n",
    "        with gzip.open(GZ_FILE, 'rb') as f_in, open(JSON_FILE, 'wb') as f_out:\n",
    "            f_out.write(f_in.read())\n",
    "    else:\n",
    "        print(f\"{JSON_FILE} already exists. Skipping unzip.\")\n",
    "\n",
    "def main():\n",
    "    unzip_if_needed()\n",
    "    print(f\"Reading JSON from {JSON_FILE}...\")\n",
    "    df = spark.read.json(JSON_FILE)\n",
    "    columns = [\n",
    "        \"body\", \"event_id\", \"event_type\", \"gk_id\",\n",
    "        \"location\", \"order_id\", \"sequence\", \"ts\"\n",
    "    ]\n",
    "    # Select only the columns if they exist\n",
    "    df = df.select([c for c in columns if c in df.columns])\n",
    "    print(f\"Writing to Unity Catalog table '{TABLE_NAME}'...\")\n",
    "    df.write.format(\"delta\").mode(\"overwrite\").saveAsTable(TABLE_NAME)\n",
    "    print(\"Done.\")\n",
    "\n",
    "main()"
   ]
  }
 ],
 "metadata": {
  "language_info": {
   "name": "python"
  }
 },
 "nbformat": 4,
 "nbformat_minor": 5
}
