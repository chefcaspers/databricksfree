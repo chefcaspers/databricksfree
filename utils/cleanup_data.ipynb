{
 "cells": [
  {
   "cell_type": "code",
   "execution_count": 0,
   "metadata": {
    "application/vnd.databricks.v1+cell": {
     "cellMetadata": {
      "byteLimit": 2048000,
      "rowLimit": 10000
     },
     "inputWidgets": {},
     "nuid": "109adbb9-3366-430f-bfee-013a072cc31b",
     "showTitle": false,
     "tableResultSettingsMap": {},
     "title": ""
    }
   },
   "outputs": [],
   "source": [
    "import os\n",
    "from pathlib import Path\n",
    "\n",
    "# Configuration\n",
    "CATALOG_NAME = 'gk_demo'\n",
    "SCHEMA_NAME = 'default'\n",
    "VOLUME_NAME = 'raw_data'\n",
    "TABLE_NAME = f'{CATALOG_NAME}.{SCHEMA_NAME}.all_events'\n",
    "\n",
    "\n",
    "# Drop the Unity Catalog table if it exists\n",
    "def drop_uc_assets():\n",
    "    try:\n",
    "        spark\n",
    "    except NameError:\n",
    "        from pyspark.sql import SparkSession\n",
    "        spark = SparkSession.builder.getOrCreate()\n",
    "    spark.sql(f\"DROP CATALOG IF EXISTS {CATALOG_NAME} CASCADE\")\n",
    "\n",
    "def main():\n",
    "    drop_uc_assets()\n",
    "    print(\"Cleanup complete.\")\n",
    "\n",
    "main()"
   ]
  },
  {
   "cell_type": "code",
   "execution_count": 0,
   "metadata": {
    "application/vnd.databricks.v1+cell": {
     "cellMetadata": {},
     "inputWidgets": {},
     "nuid": "c5e8f4d8-c0ec-47c5-8947-92c2aeaa2aa5",
     "showTitle": false,
     "tableResultSettingsMap": {},
     "title": ""
    }
   },
   "outputs": [],
   "source": []
  }
 ],
 "metadata": {
  "application/vnd.databricks.v1+notebook": {
   "computePreferences": null,
   "dashboards": [],
   "environmentMetadata": null,
   "inputWidgetPreferences": null,
   "language": "python",
   "notebookMetadata": {
    "pythonIndentUnit": 4
   },
   "notebookName": "cleanup_data",
   "widgets": {}
  },
  "language_info": {
   "name": "python"
  }
 },
 "nbformat": 4,
 "nbformat_minor": 0
}
