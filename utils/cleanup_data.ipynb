{
 "cells": [
  {
   "cell_type": "code",
   "execution_count": null,
   "id": "8c91c911",
   "metadata": {},
   "outputs": [],
   "source": [
    "import os\n",
    "\n",
    "# Paths and table name\n",
    "DATA_DIR = os.path.join(os.path.dirname(__file__), '..', 'data')\n",
    "JSON_FILE = os.path.join(DATA_DIR, 'raw_events.json')\n",
    "TABLE_NAME = 'gk_demo.default.events_table'\n",
    "\n",
    "# Delete the unzipped JSON file if it exists\n",
    "def delete_unzipped_file():\n",
    "    if os.path.exists(JSON_FILE):\n",
    "        print(f\"Deleting {JSON_FILE}...\")\n",
    "        os.remove(JSON_FILE)\n",
    "    else:\n",
    "        print(f\"{JSON_FILE} does not exist. Skipping file deletion.\")\n",
    "\n",
    "# Drop the Unity Catalog table if it exists\n",
    "def drop_uc_table():\n",
    "    try:\n",
    "        spark\n",
    "    except NameError:\n",
    "        from pyspark.sql import SparkSession\n",
    "        spark = SparkSession.builder.getOrCreate()\n",
    "    print(f\"Dropping table {TABLE_NAME} if it exists...\")\n",
    "    spark.sql(f\"DROP TABLE IF EXISTS {TABLE_NAME}\")\n",
    "    print(\"Table cleanup complete.\")\n",
    "\n",
    "def main():\n",
    "    delete_unzipped_file()\n",
    "    drop_uc_table()\n",
    "    print(\"Cleanup complete.\")\n",
    "\n",
    "main()"
   ]
  }
 ],
 "metadata": {
  "language_info": {
   "name": "python"
  }
 },
 "nbformat": 4,
 "nbformat_minor": 5
}
